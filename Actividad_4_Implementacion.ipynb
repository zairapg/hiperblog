{
  "cells": [
    {
      "cell_type": "markdown",
      "metadata": {
        "id": "view-in-github",
        "colab_type": "text"
      },
      "source": [
        "<a href=\"https://colab.research.google.com/github/zairapg/hiperblog/blob/main/Actividad_4_Implementacion.ipynb\" target=\"_parent\"><img src=\"https://colab.research.google.com/assets/colab-badge.svg\" alt=\"Open In Colab\"/></a>"
      ]
    },
    {
      "cell_type": "markdown",
      "source": [
        "\n",
        "\n",
        "   **Implementacion de la Hipotesis**\n",
        "\n",
        "   Zaira Idaly Pizo Gurrute\n",
        "\n",
        "\n"
      ],
      "metadata": {
        "id": "xFCcChG7oc3V"
      }
    },
    {
      "cell_type": "code",
      "execution_count": 1,
      "metadata": {
        "colab": {
          "base_uri": "https://localhost:8080/"
        },
        "id": "DbLYiGs3nUx_",
        "outputId": "49a53c9e-8de2-406e-ac66-25d592c545fe"
      },
      "outputs": [
        {
          "output_type": "stream",
          "name": "stdout",
          "text": [
            "Collecting ucimlrepo\n",
            "  Downloading ucimlrepo-0.0.7-py3-none-any.whl.metadata (5.5 kB)\n",
            "Requirement already satisfied: pandas>=1.0.0 in /usr/local/lib/python3.11/dist-packages (from ucimlrepo) (2.2.2)\n",
            "Requirement already satisfied: certifi>=2020.12.5 in /usr/local/lib/python3.11/dist-packages (from ucimlrepo) (2025.1.31)\n",
            "Requirement already satisfied: numpy>=1.23.2 in /usr/local/lib/python3.11/dist-packages (from pandas>=1.0.0->ucimlrepo) (2.0.2)\n",
            "Requirement already satisfied: python-dateutil>=2.8.2 in /usr/local/lib/python3.11/dist-packages (from pandas>=1.0.0->ucimlrepo) (2.8.2)\n",
            "Requirement already satisfied: pytz>=2020.1 in /usr/local/lib/python3.11/dist-packages (from pandas>=1.0.0->ucimlrepo) (2025.2)\n",
            "Requirement already satisfied: tzdata>=2022.7 in /usr/local/lib/python3.11/dist-packages (from pandas>=1.0.0->ucimlrepo) (2025.2)\n",
            "Requirement already satisfied: six>=1.5 in /usr/local/lib/python3.11/dist-packages (from python-dateutil>=2.8.2->pandas>=1.0.0->ucimlrepo) (1.17.0)\n",
            "Downloading ucimlrepo-0.0.7-py3-none-any.whl (8.0 kB)\n",
            "Installing collected packages: ucimlrepo\n",
            "Successfully installed ucimlrepo-0.0.7\n",
            "Requirement already satisfied: openpyxl in /usr/local/lib/python3.11/dist-packages (3.1.5)\n",
            "Requirement already satisfied: et-xmlfile in /usr/local/lib/python3.11/dist-packages (from openpyxl) (2.0.0)\n"
          ]
        }
      ],
      "source": [
        "!pip install ucimlrepo\n",
        "!pip install openpyxl"
      ]
    },
    {
      "cell_type": "code",
      "execution_count": 2,
      "metadata": {
        "colab": {
          "base_uri": "https://localhost:8080/"
        },
        "id": "UJAoETnlZ_HI",
        "outputId": "bba17039-7e44-45bf-a21e-1ab059403ef8"
      },
      "outputs": [
        {
          "output_type": "stream",
          "name": "stdout",
          "text": [
            "{'uci_id': 352, 'name': 'Online Retail', 'repository_url': 'https://archive.ics.uci.edu/dataset/352/online+retail', 'data_url': 'https://archive.ics.uci.edu/static/public/352/data.csv', 'abstract': 'This is a transactional data set which contains all the transactions occurring between 01/12/2010 and 09/12/2011 for a UK-based and registered non-store online retail.', 'area': 'Business', 'tasks': ['Classification', 'Clustering'], 'characteristics': ['Multivariate', 'Sequential', 'Time-Series'], 'num_instances': 541909, 'num_features': 6, 'feature_types': ['Integer', 'Real'], 'demographics': [], 'target_col': None, 'index_col': ['InvoiceNo', 'StockCode'], 'has_missing_values': 'no', 'missing_values_symbol': None, 'year_of_dataset_creation': 2015, 'last_updated': 'Mon Oct 21 2024', 'dataset_doi': '10.24432/C5BW33', 'creators': ['Daqing Chen'], 'intro_paper': {'ID': 361, 'type': 'NATIVE', 'title': 'Data mining for the online retail industry: A case study of RFM model-based customer segmentation using data mining', 'authors': 'Daqing Chen, Sai Laing Sain, Kun Guo', 'venue': 'Journal of Database Marketing and Customer Strategy Management, Vol. 19, No. 3', 'year': 2012, 'journal': None, 'DOI': '10.1057/dbm.2012.17', 'URL': 'https://www.semanticscholar.org/paper/e43a5a90fa33d419df42e485099f8f08badf2149', 'sha': None, 'corpus': None, 'arxiv': None, 'mag': None, 'acl': None, 'pmid': None, 'pmcid': None}, 'additional_info': {'summary': 'This is a transactional data set which contains all the transactions occurring between 01/12/2010 and 09/12/2011 for a UK-based and registered non-store online retail.The company mainly sells unique all-occasion gifts. Many customers of the company are wholesalers.', 'purpose': None, 'funded_by': None, 'instances_represent': None, 'recommended_data_splits': None, 'sensitive_data': None, 'preprocessing_description': None, 'variable_info': \"InvoiceNo: Invoice number. Nominal, a 6-digit integral number uniquely assigned to each transaction. If this code starts with letter 'c', it indicates a cancellation. \\nStockCode: Product (item) code. Nominal, a 5-digit integral number uniquely assigned to each distinct product.\\nDescription: Product (item) name. Nominal.\\nQuantity: The quantities of each product (item) per transaction. Numeric.\\t\\nInvoiceDate: Invoice Date and time. Numeric, the day and time when each transaction was generated.\\nUnitPrice: Unit price. Numeric, Product price per unit in sterling.\\nCustomerID: Customer number. Nominal, a 5-digit integral number uniquely assigned to each customer.\\nCountry: Country name. Nominal, the name of the country where each customer resides. \", 'citation': None}}\n",
            "          name     role         type demographic  \\\n",
            "0    InvoiceNo       ID  Categorical        None   \n",
            "1    StockCode       ID  Categorical        None   \n",
            "2  Description  Feature  Categorical        None   \n",
            "3     Quantity  Feature      Integer        None   \n",
            "4  InvoiceDate  Feature         Date        None   \n",
            "5    UnitPrice  Feature   Continuous        None   \n",
            "6   CustomerID  Feature  Categorical        None   \n",
            "7      Country  Feature  Categorical        None   \n",
            "\n",
            "                                         description     units missing_values  \n",
            "0  a 6-digit integral number uniquely assigned to...      None             no  \n",
            "1  a 5-digit integral number uniquely assigned to...      None             no  \n",
            "2                                       product name      None             no  \n",
            "3  the quantities of each product (item) per tran...      None             no  \n",
            "4  the day and time when each transaction was gen...      None             no  \n",
            "5                             product price per unit  sterling             no  \n",
            "6  a 5-digit integral number uniquely assigned to...      None             no  \n",
            "7  the name of the country where each customer re...      None             no  \n",
            "                           Description  Quantity     InvoiceDate  UnitPrice  \\\n",
            "0   WHITE HANGING HEART T-LIGHT HOLDER         6  12/1/2010 8:26       2.55   \n",
            "1                  WHITE METAL LANTERN         6  12/1/2010 8:26       3.39   \n",
            "2       CREAM CUPID HEARTS COAT HANGER         8  12/1/2010 8:26       2.75   \n",
            "3  KNITTED UNION FLAG HOT WATER BOTTLE         6  12/1/2010 8:26       3.39   \n",
            "4       RED WOOLLY HOTTIE WHITE HEART.         6  12/1/2010 8:26       3.39   \n",
            "\n",
            "   CustomerID         Country Target  \n",
            "0     17850.0  United Kingdom   None  \n",
            "1     17850.0  United Kingdom   None  \n",
            "2     17850.0  United Kingdom   None  \n",
            "3     17850.0  United Kingdom   None  \n",
            "4     17850.0  United Kingdom   None  \n"
          ]
        }
      ],
      "source": [
        "# Carga de librerías y lectura del archivo que contiene los datos\n",
        "\n",
        "import numpy as np\n",
        "import pandas as pd\n",
        "import sklearn as sk\n",
        "import seaborn as sns\n",
        "import openpyxl as xl\n",
        "import matplotlib.pyplot as plt\n",
        "from sklearn.preprocessing import LabelEncoder\n",
        "from ucimlrepo import fetch_ucirepo\n",
        "from sklearn.model_selection import KFold, train_test_split\n",
        "from sklearn.linear_model import LogisticRegression\n",
        "from sklearn.metrics import confusion_matrix, accuracy_score, recall_score, precision_score, f1_score\n",
        "from sklearn.preprocessing import StandardScaler\n",
        "from sklearn.cluster import DBSCAN\n",
        "from sklearn.metrics import silhouette_score\n",
        "from sklearn.decomposition import PCA\n",
        "from sklearn.preprocessing import StandardScaler\n",
        "from sklearn.neighbors import NearestNeighbors\n",
        "\n",
        "\n",
        "# 1. Se realiza el cargue del conjunto de datos en un data frame de pandas (data).\n",
        "\n",
        "\n",
        "from ucimlrepo import fetch_ucirepo\n",
        "\n",
        "# fetch dataset\n",
        "online_retail = fetch_ucirepo(id=352)\n",
        "\n",
        "# data (as pandas dataframes)\n",
        "X = online_retail.data.features\n",
        "y = online_retail.data.targets\n",
        "\n",
        "# metadata\n",
        "print(online_retail.metadata)\n",
        "\n",
        "# variable information\n",
        "print(online_retail.variables)\n",
        "\n",
        "\n",
        "# Crear un DataFrame de pandas con las características\n",
        "data = pd.DataFrame(X)\n",
        "\n",
        "# Si hay etiquetas (targets), puedes agregarlas al DataFrame\n",
        "data['Target'] = y\n",
        "\n",
        "\n",
        "# Imprimir los primeros registros para verificar\n",
        "print(data.head())\n",
        "\n",
        "\n",
        "\n"
      ]
    },
    {
      "cell_type": "markdown",
      "source": [
        "## 1. Analisis Exploratorio de los Datos\n"
      ],
      "metadata": {
        "id": "65jB2kTekbMk"
      }
    },
    {
      "cell_type": "code",
      "execution_count": 3,
      "metadata": {
        "colab": {
          "base_uri": "https://localhost:8080/"
        },
        "id": "PGb7IUB5Z_HJ",
        "outputId": "1f7e4783-b7fd-40f1-be80-21887b2dd719"
      },
      "outputs": [
        {
          "output_type": "stream",
          "name": "stdout",
          "text": [
            "Se establece el numero de registros y numero de atributos en su orden (541909, 7)\n"
          ]
        }
      ],
      "source": [
        "#Cuál es el número de registros? #Cuál es el número de atributos?\n",
        "\n",
        "shape = data.shape\n",
        "print ('Se establece el numero de registros y numero de atributos en su orden',shape)"
      ]
    },
    {
      "cell_type": "code",
      "execution_count": 4,
      "metadata": {
        "colab": {
          "base_uri": "https://localhost:8080/",
          "height": 321
        },
        "id": "_FMC33uwZ_HK",
        "outputId": "e02a3f54-85c9-42cd-b97a-47dd4a5ae7b5"
      },
      "outputs": [
        {
          "output_type": "stream",
          "name": "stdout",
          "text": [
            "Para el total de atributos se identifica el tipo de dato por cada atributo\n"
          ]
        },
        {
          "output_type": "execute_result",
          "data": {
            "text/plain": [
              "Description     object\n",
              "Quantity         int64\n",
              "InvoiceDate     object\n",
              "UnitPrice      float64\n",
              "CustomerID     float64\n",
              "Country         object\n",
              "Target          object\n",
              "dtype: object"
            ],
            "text/html": [
              "<div>\n",
              "<style scoped>\n",
              "    .dataframe tbody tr th:only-of-type {\n",
              "        vertical-align: middle;\n",
              "    }\n",
              "\n",
              "    .dataframe tbody tr th {\n",
              "        vertical-align: top;\n",
              "    }\n",
              "\n",
              "    .dataframe thead th {\n",
              "        text-align: right;\n",
              "    }\n",
              "</style>\n",
              "<table border=\"1\" class=\"dataframe\">\n",
              "  <thead>\n",
              "    <tr style=\"text-align: right;\">\n",
              "      <th></th>\n",
              "      <th>0</th>\n",
              "    </tr>\n",
              "  </thead>\n",
              "  <tbody>\n",
              "    <tr>\n",
              "      <th>Description</th>\n",
              "      <td>object</td>\n",
              "    </tr>\n",
              "    <tr>\n",
              "      <th>Quantity</th>\n",
              "      <td>int64</td>\n",
              "    </tr>\n",
              "    <tr>\n",
              "      <th>InvoiceDate</th>\n",
              "      <td>object</td>\n",
              "    </tr>\n",
              "    <tr>\n",
              "      <th>UnitPrice</th>\n",
              "      <td>float64</td>\n",
              "    </tr>\n",
              "    <tr>\n",
              "      <th>CustomerID</th>\n",
              "      <td>float64</td>\n",
              "    </tr>\n",
              "    <tr>\n",
              "      <th>Country</th>\n",
              "      <td>object</td>\n",
              "    </tr>\n",
              "    <tr>\n",
              "      <th>Target</th>\n",
              "      <td>object</td>\n",
              "    </tr>\n",
              "  </tbody>\n",
              "</table>\n",
              "</div><br><label><b>dtype:</b> object</label>"
            ]
          },
          "metadata": {},
          "execution_count": 4
        }
      ],
      "source": [
        "#Cual es el tipo de los atributos?\n",
        "print ('Para el total de atributos se identifica el tipo de dato por cada atributo')\n",
        "data.dtypes"
      ]
    },
    {
      "cell_type": "code",
      "execution_count": 5,
      "metadata": {
        "colab": {
          "base_uri": "https://localhost:8080/",
          "height": 300
        },
        "id": "t2u4jkkvZ_HK",
        "outputId": "4c70182f-41cf-409e-e983-6f428489da1b"
      },
      "outputs": [
        {
          "output_type": "execute_result",
          "data": {
            "text/plain": [
              "            Quantity      UnitPrice     CustomerID\n",
              "count  541909.000000  541909.000000  406829.000000\n",
              "mean        9.552250       4.611114   15287.690570\n",
              "std       218.081158      96.759853    1713.600303\n",
              "min    -80995.000000  -11062.060000   12346.000000\n",
              "25%         1.000000       1.250000   13953.000000\n",
              "50%         3.000000       2.080000   15152.000000\n",
              "75%        10.000000       4.130000   16791.000000\n",
              "max     80995.000000   38970.000000   18287.000000"
            ],
            "text/html": [
              "\n",
              "  <div id=\"df-c86ccd79-87e6-45cc-95d7-3bf20cdbe7be\" class=\"colab-df-container\">\n",
              "    <div>\n",
              "<style scoped>\n",
              "    .dataframe tbody tr th:only-of-type {\n",
              "        vertical-align: middle;\n",
              "    }\n",
              "\n",
              "    .dataframe tbody tr th {\n",
              "        vertical-align: top;\n",
              "    }\n",
              "\n",
              "    .dataframe thead th {\n",
              "        text-align: right;\n",
              "    }\n",
              "</style>\n",
              "<table border=\"1\" class=\"dataframe\">\n",
              "  <thead>\n",
              "    <tr style=\"text-align: right;\">\n",
              "      <th></th>\n",
              "      <th>Quantity</th>\n",
              "      <th>UnitPrice</th>\n",
              "      <th>CustomerID</th>\n",
              "    </tr>\n",
              "  </thead>\n",
              "  <tbody>\n",
              "    <tr>\n",
              "      <th>count</th>\n",
              "      <td>541909.000000</td>\n",
              "      <td>541909.000000</td>\n",
              "      <td>406829.000000</td>\n",
              "    </tr>\n",
              "    <tr>\n",
              "      <th>mean</th>\n",
              "      <td>9.552250</td>\n",
              "      <td>4.611114</td>\n",
              "      <td>15287.690570</td>\n",
              "    </tr>\n",
              "    <tr>\n",
              "      <th>std</th>\n",
              "      <td>218.081158</td>\n",
              "      <td>96.759853</td>\n",
              "      <td>1713.600303</td>\n",
              "    </tr>\n",
              "    <tr>\n",
              "      <th>min</th>\n",
              "      <td>-80995.000000</td>\n",
              "      <td>-11062.060000</td>\n",
              "      <td>12346.000000</td>\n",
              "    </tr>\n",
              "    <tr>\n",
              "      <th>25%</th>\n",
              "      <td>1.000000</td>\n",
              "      <td>1.250000</td>\n",
              "      <td>13953.000000</td>\n",
              "    </tr>\n",
              "    <tr>\n",
              "      <th>50%</th>\n",
              "      <td>3.000000</td>\n",
              "      <td>2.080000</td>\n",
              "      <td>15152.000000</td>\n",
              "    </tr>\n",
              "    <tr>\n",
              "      <th>75%</th>\n",
              "      <td>10.000000</td>\n",
              "      <td>4.130000</td>\n",
              "      <td>16791.000000</td>\n",
              "    </tr>\n",
              "    <tr>\n",
              "      <th>max</th>\n",
              "      <td>80995.000000</td>\n",
              "      <td>38970.000000</td>\n",
              "      <td>18287.000000</td>\n",
              "    </tr>\n",
              "  </tbody>\n",
              "</table>\n",
              "</div>\n",
              "    <div class=\"colab-df-buttons\">\n",
              "\n",
              "  <div class=\"colab-df-container\">\n",
              "    <button class=\"colab-df-convert\" onclick=\"convertToInteractive('df-c86ccd79-87e6-45cc-95d7-3bf20cdbe7be')\"\n",
              "            title=\"Convert this dataframe to an interactive table.\"\n",
              "            style=\"display:none;\">\n",
              "\n",
              "  <svg xmlns=\"http://www.w3.org/2000/svg\" height=\"24px\" viewBox=\"0 -960 960 960\">\n",
              "    <path d=\"M120-120v-720h720v720H120Zm60-500h600v-160H180v160Zm220 220h160v-160H400v160Zm0 220h160v-160H400v160ZM180-400h160v-160H180v160Zm440 0h160v-160H620v160ZM180-180h160v-160H180v160Zm440 0h160v-160H620v160Z\"/>\n",
              "  </svg>\n",
              "    </button>\n",
              "\n",
              "  <style>\n",
              "    .colab-df-container {\n",
              "      display:flex;\n",
              "      gap: 12px;\n",
              "    }\n",
              "\n",
              "    .colab-df-convert {\n",
              "      background-color: #E8F0FE;\n",
              "      border: none;\n",
              "      border-radius: 50%;\n",
              "      cursor: pointer;\n",
              "      display: none;\n",
              "      fill: #1967D2;\n",
              "      height: 32px;\n",
              "      padding: 0 0 0 0;\n",
              "      width: 32px;\n",
              "    }\n",
              "\n",
              "    .colab-df-convert:hover {\n",
              "      background-color: #E2EBFA;\n",
              "      box-shadow: 0px 1px 2px rgba(60, 64, 67, 0.3), 0px 1px 3px 1px rgba(60, 64, 67, 0.15);\n",
              "      fill: #174EA6;\n",
              "    }\n",
              "\n",
              "    .colab-df-buttons div {\n",
              "      margin-bottom: 4px;\n",
              "    }\n",
              "\n",
              "    [theme=dark] .colab-df-convert {\n",
              "      background-color: #3B4455;\n",
              "      fill: #D2E3FC;\n",
              "    }\n",
              "\n",
              "    [theme=dark] .colab-df-convert:hover {\n",
              "      background-color: #434B5C;\n",
              "      box-shadow: 0px 1px 3px 1px rgba(0, 0, 0, 0.15);\n",
              "      filter: drop-shadow(0px 1px 2px rgba(0, 0, 0, 0.3));\n",
              "      fill: #FFFFFF;\n",
              "    }\n",
              "  </style>\n",
              "\n",
              "    <script>\n",
              "      const buttonEl =\n",
              "        document.querySelector('#df-c86ccd79-87e6-45cc-95d7-3bf20cdbe7be button.colab-df-convert');\n",
              "      buttonEl.style.display =\n",
              "        google.colab.kernel.accessAllowed ? 'block' : 'none';\n",
              "\n",
              "      async function convertToInteractive(key) {\n",
              "        const element = document.querySelector('#df-c86ccd79-87e6-45cc-95d7-3bf20cdbe7be');\n",
              "        const dataTable =\n",
              "          await google.colab.kernel.invokeFunction('convertToInteractive',\n",
              "                                                    [key], {});\n",
              "        if (!dataTable) return;\n",
              "\n",
              "        const docLinkHtml = 'Like what you see? Visit the ' +\n",
              "          '<a target=\"_blank\" href=https://colab.research.google.com/notebooks/data_table.ipynb>data table notebook</a>'\n",
              "          + ' to learn more about interactive tables.';\n",
              "        element.innerHTML = '';\n",
              "        dataTable['output_type'] = 'display_data';\n",
              "        await google.colab.output.renderOutput(dataTable, element);\n",
              "        const docLink = document.createElement('div');\n",
              "        docLink.innerHTML = docLinkHtml;\n",
              "        element.appendChild(docLink);\n",
              "      }\n",
              "    </script>\n",
              "  </div>\n",
              "\n",
              "\n",
              "<div id=\"df-6a553c25-8729-4cfe-8847-167544f65da0\">\n",
              "  <button class=\"colab-df-quickchart\" onclick=\"quickchart('df-6a553c25-8729-4cfe-8847-167544f65da0')\"\n",
              "            title=\"Suggest charts\"\n",
              "            style=\"display:none;\">\n",
              "\n",
              "<svg xmlns=\"http://www.w3.org/2000/svg\" height=\"24px\"viewBox=\"0 0 24 24\"\n",
              "     width=\"24px\">\n",
              "    <g>\n",
              "        <path d=\"M19 3H5c-1.1 0-2 .9-2 2v14c0 1.1.9 2 2 2h14c1.1 0 2-.9 2-2V5c0-1.1-.9-2-2-2zM9 17H7v-7h2v7zm4 0h-2V7h2v10zm4 0h-2v-4h2v4z\"/>\n",
              "    </g>\n",
              "</svg>\n",
              "  </button>\n",
              "\n",
              "<style>\n",
              "  .colab-df-quickchart {\n",
              "      --bg-color: #E8F0FE;\n",
              "      --fill-color: #1967D2;\n",
              "      --hover-bg-color: #E2EBFA;\n",
              "      --hover-fill-color: #174EA6;\n",
              "      --disabled-fill-color: #AAA;\n",
              "      --disabled-bg-color: #DDD;\n",
              "  }\n",
              "\n",
              "  [theme=dark] .colab-df-quickchart {\n",
              "      --bg-color: #3B4455;\n",
              "      --fill-color: #D2E3FC;\n",
              "      --hover-bg-color: #434B5C;\n",
              "      --hover-fill-color: #FFFFFF;\n",
              "      --disabled-bg-color: #3B4455;\n",
              "      --disabled-fill-color: #666;\n",
              "  }\n",
              "\n",
              "  .colab-df-quickchart {\n",
              "    background-color: var(--bg-color);\n",
              "    border: none;\n",
              "    border-radius: 50%;\n",
              "    cursor: pointer;\n",
              "    display: none;\n",
              "    fill: var(--fill-color);\n",
              "    height: 32px;\n",
              "    padding: 0;\n",
              "    width: 32px;\n",
              "  }\n",
              "\n",
              "  .colab-df-quickchart:hover {\n",
              "    background-color: var(--hover-bg-color);\n",
              "    box-shadow: 0 1px 2px rgba(60, 64, 67, 0.3), 0 1px 3px 1px rgba(60, 64, 67, 0.15);\n",
              "    fill: var(--button-hover-fill-color);\n",
              "  }\n",
              "\n",
              "  .colab-df-quickchart-complete:disabled,\n",
              "  .colab-df-quickchart-complete:disabled:hover {\n",
              "    background-color: var(--disabled-bg-color);\n",
              "    fill: var(--disabled-fill-color);\n",
              "    box-shadow: none;\n",
              "  }\n",
              "\n",
              "  .colab-df-spinner {\n",
              "    border: 2px solid var(--fill-color);\n",
              "    border-color: transparent;\n",
              "    border-bottom-color: var(--fill-color);\n",
              "    animation:\n",
              "      spin 1s steps(1) infinite;\n",
              "  }\n",
              "\n",
              "  @keyframes spin {\n",
              "    0% {\n",
              "      border-color: transparent;\n",
              "      border-bottom-color: var(--fill-color);\n",
              "      border-left-color: var(--fill-color);\n",
              "    }\n",
              "    20% {\n",
              "      border-color: transparent;\n",
              "      border-left-color: var(--fill-color);\n",
              "      border-top-color: var(--fill-color);\n",
              "    }\n",
              "    30% {\n",
              "      border-color: transparent;\n",
              "      border-left-color: var(--fill-color);\n",
              "      border-top-color: var(--fill-color);\n",
              "      border-right-color: var(--fill-color);\n",
              "    }\n",
              "    40% {\n",
              "      border-color: transparent;\n",
              "      border-right-color: var(--fill-color);\n",
              "      border-top-color: var(--fill-color);\n",
              "    }\n",
              "    60% {\n",
              "      border-color: transparent;\n",
              "      border-right-color: var(--fill-color);\n",
              "    }\n",
              "    80% {\n",
              "      border-color: transparent;\n",
              "      border-right-color: var(--fill-color);\n",
              "      border-bottom-color: var(--fill-color);\n",
              "    }\n",
              "    90% {\n",
              "      border-color: transparent;\n",
              "      border-bottom-color: var(--fill-color);\n",
              "    }\n",
              "  }\n",
              "</style>\n",
              "\n",
              "  <script>\n",
              "    async function quickchart(key) {\n",
              "      const quickchartButtonEl =\n",
              "        document.querySelector('#' + key + ' button');\n",
              "      quickchartButtonEl.disabled = true;  // To prevent multiple clicks.\n",
              "      quickchartButtonEl.classList.add('colab-df-spinner');\n",
              "      try {\n",
              "        const charts = await google.colab.kernel.invokeFunction(\n",
              "            'suggestCharts', [key], {});\n",
              "      } catch (error) {\n",
              "        console.error('Error during call to suggestCharts:', error);\n",
              "      }\n",
              "      quickchartButtonEl.classList.remove('colab-df-spinner');\n",
              "      quickchartButtonEl.classList.add('colab-df-quickchart-complete');\n",
              "    }\n",
              "    (() => {\n",
              "      let quickchartButtonEl =\n",
              "        document.querySelector('#df-6a553c25-8729-4cfe-8847-167544f65da0 button');\n",
              "      quickchartButtonEl.style.display =\n",
              "        google.colab.kernel.accessAllowed ? 'block' : 'none';\n",
              "    })();\n",
              "  </script>\n",
              "</div>\n",
              "\n",
              "    </div>\n",
              "  </div>\n"
            ],
            "application/vnd.google.colaboratory.intrinsic+json": {
              "type": "dataframe",
              "summary": "{\n  \"name\": \"data\",\n  \"rows\": 8,\n  \"fields\": [\n    {\n      \"column\": \"Quantity\",\n      \"properties\": {\n        \"dtype\": \"number\",\n        \"std\": 196412.42266088672,\n        \"min\": -80995.0,\n        \"max\": 541909.0,\n        \"num_unique_values\": 8,\n        \"samples\": [\n          9.55224954743324,\n          3.0,\n          541909.0\n        ],\n        \"semantic_type\": \"\",\n        \"description\": \"\"\n      }\n    },\n    {\n      \"column\": \"UnitPrice\",\n      \"properties\": {\n        \"dtype\": \"number\",\n        \"std\": 190752.07570771928,\n        \"min\": -11062.06,\n        \"max\": 541909.0,\n        \"num_unique_values\": 8,\n        \"samples\": [\n          4.611113626088513,\n          2.08,\n          541909.0\n        ],\n        \"semantic_type\": \"\",\n        \"description\": \"\"\n      }\n    },\n    {\n      \"column\": \"CustomerID\",\n      \"properties\": {\n        \"dtype\": \"number\",\n        \"std\": 139204.16800694188,\n        \"min\": 1713.6003033216632,\n        \"max\": 406829.0,\n        \"num_unique_values\": 8,\n        \"samples\": [\n          15287.690570239585,\n          15152.0,\n          406829.0\n        ],\n        \"semantic_type\": \"\",\n        \"description\": \"\"\n      }\n    }\n  ]\n}"
            }
          },
          "metadata": {},
          "execution_count": 5
        }
      ],
      "source": [
        "#Medida de centralidad y desviación para atributos numéricos:\n",
        "data.describe()"
      ]
    },
    {
      "cell_type": "code",
      "execution_count": 6,
      "metadata": {
        "colab": {
          "base_uri": "https://localhost:8080/",
          "height": 1000
        },
        "id": "qokZIBJA09TE",
        "outputId": "a5bc3744-fc61-481a-d02c-f576387248ec"
      },
      "outputs": [
        {
          "output_type": "display_data",
          "data": {
            "text/plain": [
              "<Figure size 1000x600 with 1 Axes>"
            ],
            "image/png": "[encoded data removed]"
          },
          "metadata": {}
        },
        {
          "output_type": "display_data",
          "data": {
            "text/plain": [
              "<Figure size 1000x600 with 1 Axes>"
            ],
            "image/png": "[encoded data removed]"
          },
          "metadata": {}
        },
        {
          "output_type": "display_data",
          "data": {
            "text/plain": [
              "<Figure size 1000x600 with 1 Axes>"
            ],
            "image/png": "[encoded data removed]"
          },
          "metadata": {}
        }
      ],
      "source": [
        "# Distribución de las transacciones por país\n",
        "plt.figure(figsize=(10,6))\n",
        "sns.countplot(x='Country', data=data)\n",
        "plt.xticks(rotation=90)\n",
        "plt.title('Distribución de transacciones por país')\n",
        "plt.show()\n",
        "\n",
        "\n",
        "# Ver la cantidad de transacciones por cliente\n",
        "data['CustomerID'] = data['CustomerID'].fillna(0)  # Para evitar problemas con los NaN\n",
        "customer_count = data.groupby('CustomerID').size()\n",
        "plt.figure(figsize=(10,6))\n",
        "sns.histplot(customer_count, kde=True)\n",
        "plt.title('Distribución de la cantidad de transacciones por cliente')\n",
        "plt.show()\n",
        "\n",
        "\n",
        "# Visualizar el precio unitario de los productos vendidos\n",
        "plt.figure(figsize=(10,6))\n",
        "sns.histplot(data['UnitPrice'], kde=True, bins=50)\n",
        "plt.title('Distribución de precios unitarios de productos')\n",
        "plt.show()\n",
        "\n"
      ]
    },
    {
      "cell_type": "code",
      "execution_count": 7,
      "metadata": {
        "id": "k35vMNxmZ_HL",
        "colab": {
          "base_uri": "https://localhost:8080/",
          "height": 81
        },
        "outputId": "7820ba93-1cc2-4efc-db4c-aea2fb5aa341"
      },
      "outputs": [
        {
          "output_type": "execute_result",
          "data": {
            "text/plain": [
              "                          Description  Quantity       InvoiceDate  UnitPrice  \\\n",
              "0  WHITE HANGING HEART T-LIGHT HOLDER         1  10/31/2011 14:41       1.25   \n",
              "\n",
              "   CustomerID         Country Target  \n",
              "0         0.0  United Kingdom    NaN  "
            ],
            "text/html": [
              "\n",
              "  <div id=\"df-4a9609ab-0f0a-4685-89e9-5ad8189a4ab4\" class=\"colab-df-container\">\n",
              "    <div>\n",
              "<style scoped>\n",
              "    .dataframe tbody tr th:only-of-type {\n",
              "        vertical-align: middle;\n",
              "    }\n",
              "\n",
              "    .dataframe tbody tr th {\n",
              "        vertical-align: top;\n",
              "    }\n",
              "\n",
              "    .dataframe thead th {\n",
              "        text-align: right;\n",
              "    }\n",
              "</style>\n",
              "<table border=\"1\" class=\"dataframe\">\n",
              "  <thead>\n",
              "    <tr style=\"text-align: right;\">\n",
              "      <th></th>\n",
              "      <th>Description</th>\n",
              "      <th>Quantity</th>\n",
              "      <th>InvoiceDate</th>\n",
              "      <th>UnitPrice</th>\n",
              "      <th>CustomerID</th>\n",
              "      <th>Country</th>\n",
              "      <th>Target</th>\n",
              "    </tr>\n",
              "  </thead>\n",
              "  <tbody>\n",
              "    <tr>\n",
              "      <th>0</th>\n",
              "      <td>WHITE HANGING HEART T-LIGHT HOLDER</td>\n",
              "      <td>1</td>\n",
              "      <td>10/31/2011 14:41</td>\n",
              "      <td>1.25</td>\n",
              "      <td>0.0</td>\n",
              "      <td>United Kingdom</td>\n",
              "      <td>NaN</td>\n",
              "    </tr>\n",
              "  </tbody>\n",
              "</table>\n",
              "</div>\n",
              "    <div class=\"colab-df-buttons\">\n",
              "\n",
              "  <div class=\"colab-df-container\">\n",
              "    <button class=\"colab-df-convert\" onclick=\"convertToInteractive('df-4a9609ab-0f0a-4685-89e9-5ad8189a4ab4')\"\n",
              "            title=\"Convert this dataframe to an interactive table.\"\n",
              "            style=\"display:none;\">\n",
              "\n",
              "  <svg xmlns=\"http://www.w3.org/2000/svg\" height=\"24px\" viewBox=\"0 -960 960 960\">\n",
              "    <path d=\"M120-120v-720h720v720H120Zm60-500h600v-160H180v160Zm220 220h160v-160H400v160Zm0 220h160v-160H400v160ZM180-400h160v-160H180v160Zm440 0h160v-160H620v160ZM180-180h160v-160H180v160Zm440 0h160v-160H620v160Z\"/>\n",
              "  </svg>\n",
              "    </button>\n",
              "\n",
              "  <style>\n",
              "    .colab-df-container {\n",
              "      display:flex;\n",
              "      gap: 12px;\n",
              "    }\n",
              "\n",
              "    .colab-df-convert {\n",
              "      background-color: #E8F0FE;\n",
              "      border: none;\n",
              "      border-radius: 50%;\n",
              "      cursor: pointer;\n",
              "      display: none;\n",
              "      fill: #1967D2;\n",
              "      height: 32px;\n",
              "      padding: 0 0 0 0;\n",
              "      width: 32px;\n",
              "    }\n",
              "\n",
              "    .colab-df-convert:hover {\n",
              "      background-color: #E2EBFA;\n",
              "      box-shadow: 0px 1px 2px rgba(60, 64, 67, 0.3), 0px 1px 3px 1px rgba(60, 64, 67, 0.15);\n",
              "      fill: #174EA6;\n",
              "    }\n",
              "\n",
              "    .colab-df-buttons div {\n",
              "      margin-bottom: 4px;\n",
              "    }\n",
              "\n",
              "    [theme=dark] .colab-df-convert {\n",
              "      background-color: #3B4455;\n",
              "      fill: #D2E3FC;\n",
              "    }\n",
              "\n",
              "    [theme=dark] .colab-df-convert:hover {\n",
              "      background-color: #434B5C;\n",
              "      box-shadow: 0px 1px 3px 1px rgba(0, 0, 0, 0.15);\n",
              "      filter: drop-shadow(0px 1px 2px rgba(0, 0, 0, 0.3));\n",
              "      fill: #FFFFFF;\n",
              "    }\n",
              "  </style>\n",
              "\n",
              "    <script>\n",
              "      const buttonEl =\n",
              "        document.querySelector('#df-4a9609ab-0f0a-4685-89e9-5ad8189a4ab4 button.colab-df-convert');\n",
              "      buttonEl.style.display =\n",
              "        google.colab.kernel.accessAllowed ? 'block' : 'none';\n",
              "\n",
              "      async function convertToInteractive(key) {\n",
              "        const element = document.querySelector('#df-4a9609ab-0f0a-4685-89e9-5ad8189a4ab4');\n",
              "        const dataTable =\n",
              "          await google.colab.kernel.invokeFunction('convertToInteractive',\n",
              "                                                    [key], {});\n",
              "        if (!dataTable) return;\n",
              "\n",
              "        const docLinkHtml = 'Like what you see? Visit the ' +\n",
              "          '<a target=\"_blank\" href=https://colab.research.google.com/notebooks/data_table.ipynb>data table notebook</a>'\n",
              "          + ' to learn more about interactive tables.';\n",
              "        element.innerHTML = '';\n",
              "        dataTable['output_type'] = 'display_data';\n",
              "        await google.colab.output.renderOutput(dataTable, element);\n",
              "        const docLink = document.createElement('div');\n",
              "        docLink.innerHTML = docLinkHtml;\n",
              "        element.appendChild(docLink);\n",
              "      }\n",
              "    </script>\n",
              "  </div>\n",
              "\n",
              "\n",
              "    </div>\n",
              "  </div>\n"
            ],
            "application/vnd.google.colaboratory.intrinsic+json": {
              "type": "dataframe",
              "repr_error": "Out of range float values are not JSON compliant: nan"
            }
          },
          "metadata": {},
          "execution_count": 7
        }
      ],
      "source": [
        "#Medida de centralidad para atributos categóricos:\n",
        "data.mode()"
      ]
    },
    {
      "cell_type": "code",
      "execution_count": 8,
      "metadata": {
        "id": "wc6W_v3yZ_HM",
        "colab": {
          "base_uri": "https://localhost:8080/"
        },
        "outputId": "8c2831ef-efd4-48c9-a121-82de88085c72"
      },
      "outputs": [
        {
          "output_type": "execute_result",
          "data": {
            "text/plain": [
              "2"
            ]
          },
          "metadata": {},
          "execution_count": 8
        }
      ],
      "source": [
        "# Cual es el máximo de datos faltantes en un mismo registro?\n",
        "# Si hay registros a los que les faltan muchos valores, es mejor eliminarlos.\n",
        "max(data.isnull().sum(axis=1))"
      ]
    },
    {
      "cell_type": "code",
      "execution_count": 9,
      "metadata": {
        "id": "NcSAkgvnZ_HN",
        "colab": {
          "base_uri": "https://localhost:8080/",
          "height": 304
        },
        "outputId": "068c11a7-a68d-4c72-b970-17afbf0b5e37"
      },
      "outputs": [
        {
          "output_type": "execute_result",
          "data": {
            "text/plain": [
              "Description      1454\n",
              "Quantity            0\n",
              "InvoiceDate         0\n",
              "UnitPrice           0\n",
              "CustomerID          0\n",
              "Country             0\n",
              "Target         541909\n",
              "dtype: int64"
            ],
            "text/html": [
              "<div>\n",
              "<style scoped>\n",
              "    .dataframe tbody tr th:only-of-type {\n",
              "        vertical-align: middle;\n",
              "    }\n",
              "\n",
              "    .dataframe tbody tr th {\n",
              "        vertical-align: top;\n",
              "    }\n",
              "\n",
              "    .dataframe thead th {\n",
              "        text-align: right;\n",
              "    }\n",
              "</style>\n",
              "<table border=\"1\" class=\"dataframe\">\n",
              "  <thead>\n",
              "    <tr style=\"text-align: right;\">\n",
              "      <th></th>\n",
              "      <th>0</th>\n",
              "    </tr>\n",
              "  </thead>\n",
              "  <tbody>\n",
              "    <tr>\n",
              "      <th>Description</th>\n",
              "      <td>1454</td>\n",
              "    </tr>\n",
              "    <tr>\n",
              "      <th>Quantity</th>\n",
              "      <td>0</td>\n",
              "    </tr>\n",
              "    <tr>\n",
              "      <th>InvoiceDate</th>\n",
              "      <td>0</td>\n",
              "    </tr>\n",
              "    <tr>\n",
              "      <th>UnitPrice</th>\n",
              "      <td>0</td>\n",
              "    </tr>\n",
              "    <tr>\n",
              "      <th>CustomerID</th>\n",
              "      <td>0</td>\n",
              "    </tr>\n",
              "    <tr>\n",
              "      <th>Country</th>\n",
              "      <td>0</td>\n",
              "    </tr>\n",
              "    <tr>\n",
              "      <th>Target</th>\n",
              "      <td>541909</td>\n",
              "    </tr>\n",
              "  </tbody>\n",
              "</table>\n",
              "</div><br><label><b>dtype:</b> int64</label>"
            ]
          },
          "metadata": {},
          "execution_count": 9
        }
      ],
      "source": [
        "#Cuantos datos faltantes hay por cada atributo?\n",
        "data.isnull().sum()"
      ]
    },
    {
      "cell_type": "code",
      "execution_count": 10,
      "metadata": {
        "id": "7fxcufnEZ_HN",
        "colab": {
          "base_uri": "https://localhost:8080/"
        },
        "outputId": "254634c3-2338-448c-f892-c1874e388a29"
      },
      "outputs": [
        {
          "output_type": "stream",
          "name": "stdout",
          "text": [
            "Series([], Name: count, dtype: int64)\n"
          ]
        }
      ],
      "source": [
        "#Cuantos registros hay por cada clase? es decir, por cada valor del atributo de salida?\n",
        "\n",
        "print(data['Target'].value_counts())"
      ]
    },
    {
      "cell_type": "markdown",
      "metadata": {
        "id": "P_0pYcP0gFq8"
      },
      "source": [
        "## 2.Procesacimiento de los datos\n",
        "De acuerdo a lo observado en la etapa 1, se define una secuencia de actividades que modifican los datos para eliminar las situaciones que puedan ser causa de fallo o deficiencia en el proceso de aprendizaje. En este caso se van a realizar las siguientes actividades:\n",
        "\n",
        "\n",
        "1.   Completar los datos faltantes utilizando la media para atributos numéricos y la moda para atributos categóricos.\n",
        "2.   Convertir los atributos categóricos a escala numérica.\n",
        "3.   Normalizar los valores de algunos los atributos.\n",
        "4.   Balancear las clases eliminando registros de la clase mayoritaria.\n",
        "\n",
        "\n",
        "\n",
        "\n",
        "\n",
        "\n",
        "\n"
      ]
    },
    {
      "cell_type": "markdown",
      "source": [
        "Limpieza de valores nulos:\n",
        "El dataset tiene algunos valores nulos y valores de cantidad igual a cero. Debemos tratarlos"
      ],
      "metadata": {
        "id": "Gc-Zl8hhDPBS"
      }
    },
    {
      "cell_type": "code",
      "source": [
        "# Eliminamos las filas con valores nulos en 'Description' y 'CustomerID'\n",
        "data.dropna(subset=['Description', 'CustomerID'], inplace=True)\n",
        "\n",
        "# Llenar valores nulos en 'Description' con el valor 'Desconocido'\n",
        "data['Description'].fillna('Desconocido', inplace=True)\n",
        "\n",
        "# Eliminamos registros con cantidad igual a cero\n",
        "data= data[data['Quantity'] > 0]\n",
        "\n",
        "# Rellenamos los valores nulos en 'Country' con un valor genérico o eliminar si es necesario\n",
        "data['Country'].fillna('Desconocido', inplace=True)\n",
        "\n",
        "# Verificar si hay algún valor nulo restante\n",
        "print(data.isnull().sum())"
      ],
      "metadata": {
        "colab": {
          "base_uri": "https://localhost:8080/"
        },
        "id": "YS0CDvkaC1aV",
        "outputId": "96c99636-0ab6-4da5-fc41-9cf92b628836"
      },
      "execution_count": 11,
      "outputs": [
        {
          "output_type": "stream",
          "name": "stdout",
          "text": [
            "Description         0\n",
            "Quantity            0\n",
            "InvoiceDate         0\n",
            "UnitPrice           0\n",
            "CustomerID          0\n",
            "Country             0\n",
            "Target         530693\n",
            "dtype: int64\n"
          ]
        },
        {
          "output_type": "stream",
          "name": "stderr",
          "text": [
            "<ipython-input-11-7b93a7ec6afe>:5: FutureWarning: A value is trying to be set on a copy of a DataFrame or Series through chained assignment using an inplace method.\n",
            "The behavior will change in pandas 3.0. This inplace method will never work because the intermediate object on which we are setting values always behaves as a copy.\n",
            "\n",
            "For example, when doing 'df[col].method(value, inplace=True)', try using 'df.method({col: value}, inplace=True)' or df[col] = df[col].method(value) instead, to perform the operation inplace on the original object.\n",
            "\n",
            "\n",
            "  data['Description'].fillna('Desconocido', inplace=True)\n",
            "<ipython-input-11-7b93a7ec6afe>:11: FutureWarning: A value is trying to be set on a copy of a DataFrame or Series through chained assignment using an inplace method.\n",
            "The behavior will change in pandas 3.0. This inplace method will never work because the intermediate object on which we are setting values always behaves as a copy.\n",
            "\n",
            "For example, when doing 'df[col].method(value, inplace=True)', try using 'df.method({col: value}, inplace=True)' or df[col] = df[col].method(value) instead, to perform the operation inplace on the original object.\n",
            "\n",
            "\n",
            "  data['Country'].fillna('Desconocido', inplace=True)\n",
            "<ipython-input-11-7b93a7ec6afe>:11: SettingWithCopyWarning: \n",
            "A value is trying to be set on a copy of a slice from a DataFrame\n",
            "\n",
            "See the caveats in the documentation: https://pandas.pydata.org/pandas-docs/stable/user_guide/indexing.html#returning-a-view-versus-a-copy\n",
            "  data['Country'].fillna('Desconocido', inplace=True)\n"
          ]
        }
      ]
    },
    {
      "cell_type": "markdown",
      "source": [
        "Conversión de tipos de datos:\n",
        "El campo InvoiceDate es una cadena, pero debería ser un tipo de dato datetime. Además, el precio y la cantidad deben ser convertidos a valores numéricos."
      ],
      "metadata": {
        "id": "-t96jGAsDR43"
      }
    },
    {
      "cell_type": "code",
      "source": [
        "# Convertir InvoiceDate a datetime\n",
        "data['InvoiceDate'] = pd.to_datetime(data['InvoiceDate'])\n",
        "\n",
        "# Convertir 'UnitPrice' a numérico\n",
        "data['UnitPrice'] = pd.to_numeric(data['UnitPrice'], errors='coerce')\n",
        "\n",
        "# Convertir 'Quantity' a numérico\n",
        "data['Quantity'] = pd.to_numeric(data['Quantity'], errors='coerce')\n"
      ],
      "metadata": {
        "id": "ByG2WuNYDXBL"
      },
      "execution_count": 12,
      "outputs": []
    },
    {
      "cell_type": "markdown",
      "source": [
        "Cálculo de variables adicionales:En este caso, podemos crear una columna de \"Total\" que sea el precio total de cada transacción."
      ],
      "metadata": {
        "id": "3GfyTP8fDvKk"
      }
    },
    {
      "cell_type": "code",
      "source": [
        "\n",
        "# Crear una nueva columna con el valor total de la compra (Quantity * UnitPrice)\n",
        "data['TotalValue'] = data['Quantity'] * data['UnitPrice']\n"
      ],
      "metadata": {
        "id": "erl895ZjESgC"
      },
      "execution_count": 13,
      "outputs": []
    },
    {
      "cell_type": "markdown",
      "source": [],
      "metadata": {
        "id": "TRba7u9JAVlf"
      }
    },
    {
      "cell_type": "code",
      "source": [
        "data_clientes = data[['CustomerID', 'TotalValue', 'Quantity']]"
      ],
      "metadata": {
        "id": "r9zfW2omLPEF"
      },
      "execution_count": 14,
      "outputs": []
    },
    {
      "cell_type": "code",
      "execution_count": 15,
      "metadata": {
        "id": "YSk5R_XwZ_HQ"
      },
      "outputs": [],
      "source": [
        "# Crear las características para cada cliente\n",
        "data_clientes = data_clientes.groupby('CustomerID').agg({\n",
        "    'TotalValue': 'sum',\n",
        "    'Quantity': 'sum'\n",
        "}).reset_index()\n",
        "\n",
        "#Normalizacion\n",
        "\n",
        "scaler = StandardScaler()\n",
        "data_clientes_scaled = scaler.fit_transform(data_clientes[['TotalValue', 'Quantity']])\n"
      ]
    },
    {
      "cell_type": "markdown",
      "source": [
        "## Estimacion de los cluster"
      ],
      "metadata": {
        "id": "C00uA28gXzHz"
      }
    },
    {
      "cell_type": "code",
      "source": [
        "min_samples = 6\n",
        "neigh = NearestNeighbors(n_neighbors=min_samples)\n",
        "neigh.fit(data_clientes_scaled)\n",
        "\n",
        "# Calcular las distancias a los k vecinos más cercanos\n",
        "distances, indices = neigh.kneighbors(data_clientes_scaled)\n",
        "\n",
        "# Ordenar las distancias\n",
        "sorted_distances = np.sort(distances[:, min_samples-1])\n",
        "\n",
        "# Calcular la segunda derivada para encontrar el punto de inflexión\n",
        "dd = np.diff(sorted_distances, 2)\n",
        "optimal_eps = sorted_distances[np.argmax(dd) + 1]  # +1 para compensar la derivada\n",
        "\n",
        "# Graficar la curva k-dist\n",
        "plt.plot(sorted_distances)\n",
        "plt.axvline(x=np.argmax(dd) + 1, color='r', linestyle='--', label=f'Epsilon óptimo: {optimal_eps:.3f}')\n",
        "plt.xlabel(\"Puntos de datos ordenados\")\n",
        "plt.ylabel(\"Distancia k-ésima\")\n",
        "plt.title(\"Curva k-dist para determinar epsilon\")\n",
        "plt.legend()\n",
        "plt.show()\n",
        "\n",
        "# Ordenar las distancias\n",
        "sorted_distances = np.sort(distances[:, min_samples-1])\n",
        "\n",
        "# Calcular la segunda derivada para encontrar el punto de inflexión\n",
        "dd = np.diff(sorted_distances, 2)\n",
        "\n",
        "# Graficar la curva k-dist\n",
        "plt.plot(sorted_distances)\n",
        "plt.axvline(x=np.argmax(dd) + 1, color='r', linestyle='--', label=f'Epsilon óptimo: {optimal_eps:.3f}')\n",
        "plt.xlabel(\"Puntos de datos ordenados\")\n",
        "plt.ylabel(\"Distancia k-ésima\")\n",
        "plt.title(\"Curva k-dist para determinar epsilon\")\n",
        "plt.legend()\n",
        "plt.show()"
      ],
      "metadata": {
        "colab": {
          "base_uri": "https://localhost:8080/",
          "height": 927
        },
        "id": "DPTysrHlX3pn",
        "outputId": "4ab96d09-391d-400f-f76d-f7fd700720c1"
      },
      "execution_count": 18,
      "outputs": [
        {
          "output_type": "display_data",
          "data": {
            "text/plain": [
              "<Figure size 640x480 with 1 Axes>"
            ],
            "image/png": "[encoded data removed]"
          },
          "metadata": {}
        },
        {
          "output_type": "display_data",
          "data": {
            "text/plain": [
              "<Figure size 640x480 with 1 Axes>"
            ],
            "image/png": "[encoded data removed]"
          },
          "metadata": {}
        }
      ]
    },
    {
      "cell_type": "markdown",
      "metadata": {
        "id": "J0k2r-I8lt0M"
      },
      "source": [
        "##  Modelado\n"
      ]
    },
    {
      "cell_type": "markdown",
      "source": [
        "\n",
        "Ahora pasamos a aplicar el algoritmo DBSCAN para realizar la segmentación de clientes. Necesitaremos preparar las características adecuadas para la segmentación. Para este caso, usaremos características como la cantidad de compras, el valor total de las compras, la frecuencia de las compras, etc.\n",
        "\n",
        "Preparación de las características para DBSCAN:\n",
        "Lo que necesitamos son las características numéricas para cada cliente. Estas características incluirán:\n",
        "\n",
        "Frecuencia de compra: número de transacciones de un cliente.\n",
        "\n",
        "Valor total de compra: suma de todas las compras de un cliente.\n",
        "\n"
      ],
      "metadata": {
        "id": "gzOK8B5XEfKj"
      }
    },
    {
      "cell_type": "code",
      "source": [
        "\n",
        "# Aplicamos el primer modelo DBSCAN\n",
        "dbscan = DBSCAN(eps=15.8, min_samples=6)\n",
        "data_clientes['Cluster'] = dbscan.fit_predict(data_clientes_scaled)\n",
        "\n",
        "# Aplicamos el segundo modelo DBSCAN con parámetros diferentes\n",
        "dbscan2 = DBSCAN(eps=0.07, min_samples=4)\n",
        "data_clientes['Cluster2'] = dbscan2.fit_predict(data_clientes_scaled)\n",
        "# Ver los resultados de clustering\n",
        "\n",
        "print(data_clientes['Cluster'].value_counts())\n",
        "print(data_clientes['Cluster2'].value_counts())"
      ],
      "metadata": {
        "id": "YaoZXnpXE1F6",
        "colab": {
          "base_uri": "https://localhost:8080/"
        },
        "outputId": "c13f31b0-48c0-416c-e793-923897d357b3"
      },
      "execution_count": 19,
      "outputs": [
        {
          "output_type": "stream",
          "name": "stdout",
          "text": [
            "Cluster\n",
            " 0    4339\n",
            "-1       1\n",
            "Name: count, dtype: int64\n",
            "Cluster2\n",
            " 0    4259\n",
            "-1      76\n",
            " 1       5\n",
            "Name: count, dtype: int64\n"
          ]
        }
      ]
    },
    {
      "cell_type": "markdown",
      "source": [
        "## Evaluacion del Modelo"
      ],
      "metadata": {
        "id": "Evv34cyzFB4g"
      }
    },
    {
      "cell_type": "markdown",
      "source": [
        "Una vez que hemos segmentado a los clientes, necesitamos evaluar la calidad del clustering. Una forma común de hacerlo es utilizando el Silhouette Score, que mide qué tan bien se ha realizado la segmentación."
      ],
      "metadata": {
        "id": "l6GpyfReFISm"
      }
    },
    {
      "cell_type": "code",
      "source": [
        "# Calculamos el índice de Silueta para ambos modelos\n",
        "score1 = silhouette_score(data_clientes_scaled, data_clientes['Cluster'])\n",
        "score2 = silhouette_score(data_clientes_scaled, data_clientes['Cluster2'])\n",
        "\n",
        "print(f\"Índice de Silueta (DBSCAN1): {score1}\")\n",
        "print(f\"Índice de Silueta (DBSCAN2): {score2}\")"
      ],
      "metadata": {
        "id": "ElxNpz2AFK5J",
        "colab": {
          "base_uri": "https://localhost:8080/"
        },
        "outputId": "23caecd4-ee22-4538-b297-53dae4dd6684"
      },
      "execution_count": 20,
      "outputs": [
        {
          "output_type": "stream",
          "name": "stdout",
          "text": [
            "Índice de Silueta (DBSCAN1): 0.996825575209214\n",
            "Índice de Silueta (DBSCAN2): 0.8537617201283458\n"
          ]
        }
      ]
    },
    {
      "cell_type": "markdown",
      "source": [
        "DBSCAN  tiene un índice de 0.9968, lo que indica un clustering excelente, con puntos bien separados y agrupados.\n",
        "\n",
        "DBSCAN2 tiene un índice de 0.5145, lo que sugiere un clustering aceptable, pero con mayor superposición entre los grupos."
      ],
      "metadata": {
        "id": "zo6RuEGUi6dj"
      }
    },
    {
      "cell_type": "code",
      "source": [
        "def plot_dbscan(dbscan, X, size, show_xlabels=True, show_ylabels=True):\n",
        "    core_mask = np.zeros_like(dbscan.labels_, dtype=bool)\n",
        "    core_mask[dbscan.core_sample_indices_] = True\n",
        "    anomalies_mask = dbscan.labels_ == -1\n",
        "    non_core_mask = ~(core_mask | anomalies_mask)\n",
        "\n",
        "    cores = dbscan.components_\n",
        "    anomalies = X[anomalies_mask]\n",
        "    non_cores = X[non_core_mask]\n",
        "\n",
        "    plt.scatter(cores[:, 0], cores[:, 1],\n",
        "                c=dbscan.labels_[core_mask], marker='o', s=size, cmap=\"Paired\")\n",
        "    plt.scatter(cores[:, 0], cores[:, 1], marker='*', s=20, c=dbscan.labels_[core_mask])\n",
        "    plt.scatter(anomalies[:, 0], anomalies[:, 1],\n",
        "                c=\"r\", marker=\"x\", s=100)\n",
        "    plt.scatter(non_cores[:, 0], non_cores[:, 1], c=dbscan.labels_[non_core_mask], marker=\".\")\n",
        "    if show_xlabels:\n",
        "        plt.xlabel(\"$x_1$\", fontsize=14)\n",
        "    else:\n",
        "        plt.tick_params(labelbottom=False)\n",
        "    if show_ylabels:\n",
        "        plt.ylabel(\"$x_2$\", fontsize=14, rotation=0)\n",
        "    else:\n",
        "        plt.tick_params(labelleft=False)\n",
        "    plt.title(\"eps={:.2f}, min_samples={}\".format(dbscan.eps, dbscan.min_samples), fontsize=14)"
      ],
      "metadata": {
        "id": "_lxObzduPBVO"
      },
      "execution_count": 21,
      "outputs": []
    },
    {
      "cell_type": "code",
      "source": [
        "print(f\"Cantidad de registros en data: {data.shape[0]}\")\n",
        "print(f\"Cantidad de registros en data_clientes: {data_clientes.shape[0]}\")\n",
        "\n",
        "X = data_clientes_scaled\n",
        "\n",
        "plt.figure(figsize=(9, 3.2))\n",
        "\n",
        "plt.subplot(121)\n",
        "plot_dbscan(dbscan, X, size=100,show_ylabels=False, show_xlabels=False)\n",
        "\n",
        "plt.subplot(122)\n",
        "plot_dbscan(dbscan2, X, size=600, show_ylabels=False, show_xlabels=False)\n"
      ],
      "metadata": {
        "colab": {
          "base_uri": "https://localhost:8080/",
          "height": 346
        },
        "id": "MUHLnFIxSGZN",
        "outputId": "f1987949-380f-435b-be52-54259b2c58ac"
      },
      "execution_count": 22,
      "outputs": [
        {
          "output_type": "stream",
          "name": "stdout",
          "text": [
            "Cantidad de registros en data: 530693\n",
            "Cantidad de registros en data_clientes: 4340\n"
          ]
        },
        {
          "output_type": "display_data",
          "data": {
            "text/plain": [
              "<Figure size 900x320 with 2 Axes>"
            ],
            "image/png": "[encoded data removed]"
          },
          "metadata": {}
        }
      ]
    },
    {
      "cell_type": "markdown",
      "source": [
        "## Analisis de los resultados\n",
        "\n",
        "Finalmente, realizamos un análisis de los clústeres obtenidos, observando las características de cada grupo (por ejemplo, los clientes de mayor valor, los que compran más cantidad, etc.).\n",
        "Distribución de los clusters:"
      ],
      "metadata": {
        "id": "h-HoM6c1FOgs"
      }
    },
    {
      "cell_type": "code",
      "source": [
        "# Analizar las características de cada clúster\n",
        "# Contar la cantidad de clientes en cada clúster para el primer modelo\n",
        "cluster_cont = data_clientes['Cluster'].value_counts()\n",
        "cluster_cont2 = data_clientes['Cluster2'].value_counts()\n",
        "\n",
        "plt.subplot(1, 2, 1)\n",
        "sns.barplot(x=cluster_cont.index, y=cluster_cont.values, palette=\"viridis\")\n",
        "plt.xlabel(\"Cluster\")\n",
        "plt.ylabel(\"Número de Clientes\")\n",
        "plt.title(\"Distribución de Clústeres - DBSCAN 1\")\n",
        "\n",
        "plt.subplot(1, 2, 2)\n",
        "sns.barplot(x=cluster_cont2.index, y=cluster_cont2.values, palette=\"magma\")\n",
        "plt.xlabel(\"Cluster\")\n",
        "plt.ylabel(\"Número de Clientes\")\n",
        "plt.title(\"Distribución de Clústeres - DBSCAN 2\")\n",
        "\n",
        "plt.tight_layout()\n",
        "plt.show()"
      ],
      "metadata": {
        "colab": {
          "base_uri": "https://localhost:8080/",
          "height": 661
        },
        "id": "cb_AgwNKNgoj",
        "outputId": "8abb42c8-e15d-4cd0-e4b5-943a63baad52"
      },
      "execution_count": 23,
      "outputs": [
        {
          "output_type": "stream",
          "name": "stderr",
          "text": [
            "<ipython-input-23-e75c8c32a7bf>:7: FutureWarning: \n",
            "\n",
            "Passing `palette` without assigning `hue` is deprecated and will be removed in v0.14.0. Assign the `x` variable to `hue` and set `legend=False` for the same effect.\n",
            "\n",
            "  sns.barplot(x=cluster_cont.index, y=cluster_cont.values, palette=\"viridis\")\n",
            "<ipython-input-23-e75c8c32a7bf>:13: FutureWarning: \n",
            "\n",
            "Passing `palette` without assigning `hue` is deprecated and will be removed in v0.14.0. Assign the `x` variable to `hue` and set `legend=False` for the same effect.\n",
            "\n",
            "  sns.barplot(x=cluster_cont2.index, y=cluster_cont2.values, palette=\"magma\")\n"
          ]
        },
        {
          "output_type": "display_data",
          "data": {
            "text/plain": [
              "<Figure size 640x480 with 2 Axes>"
            ],
            "image/png": "[encoded data removed]"
          },
          "metadata": {}
        }
      ]
    },
    {
      "cell_type": "code",
      "source": [
        "# Agregar los clústeres al dataset original para el análisis\n",
        "data_clientes['Cluster'] = dbscan.labels_\n",
        "data_clientes['Cluster2'] = dbscan2.labels_\n",
        "\n",
        "# Calcular estadísticas por clúster para DBSCAN 1\n",
        "cluster_sum = data_clientes.groupby('Cluster').agg({\n",
        "    'TotalValue': ['mean', 'median', 'sum', 'count'],\n",
        "    'Quantity': ['mean', 'median', 'sum', 'count']\n",
        "}).reset_index()\n",
        "\n",
        "# Aplanar el índice multi-nivel\n",
        "cluster_sum.columns = ['_'.join(col).strip() for col in cluster_sum.columns.values]\n",
        "cluster_sum = cluster_sum.rename(columns={\n",
        "    'Cluster_': 'Cluster',\n",
        "    'TotalValue_mean': 'TotalValue_mean',\n",
        "    'TotalValue_median': 'TotalValue_median',\n",
        "    'TotalValue_sum': 'TotalValue_sum',\n",
        "    'TotalValue_count': 'TotalValue_count',\n",
        "    'Quantity_mean': 'Quantity_mean',\n",
        "    'Quantity_median': 'Quantity_median',\n",
        "    'Quantity_sum': 'Quantity_sum',\n",
        "    'Quantity_count': 'Quantity_count'\n",
        "})\n",
        "\n",
        "# Calcular estadísticas por clúster para DBSCAN 2\n",
        "cluster_sum2 = data_clientes.groupby('Cluster2').agg({\n",
        "    'TotalValue': ['mean', 'median', 'sum', 'count'],\n",
        "    'Quantity': ['mean', 'median', 'sum', 'count']\n",
        "}).reset_index()\n",
        "\n",
        "# Aplanar el índice multi-nivel\n",
        "cluster_sum2.columns = ['_'.join(col).strip() for col in cluster_sum2.columns.values]\n",
        "cluster_sum2 = cluster_sum2.rename(columns={\n",
        "    'Cluster2_': 'Cluster2',\n",
        "    'TotalValue_mean': 'TotalValue_mean',\n",
        "    'TotalValue_median': 'TotalValue_median',\n",
        "    'TotalValue_sum': 'TotalValue_sum',\n",
        "    'TotalValue_count': 'TotalValue_count',\n",
        "    'Quantity_mean': 'Quantity_mean',\n",
        "    'Quantity_median': 'Quantity_median',\n",
        "    'Quantity_sum': 'Quantity_sum',\n",
        "    'Quantity_count': 'Quantity_count'\n",
        "})\n",
        "\n",
        "# Mostrar los resultados en formato tabla\n",
        "print(\"Resumen de Clústeres - DBSCAN 1\")\n",
        "print(cluster_sum.to_string(index=False))\n",
        "\n",
        "print(\"\\nResumen de Clústeres - DBSCAN 2\")\n",
        "print(cluster_sum2.to_string(index=False))"
      ],
      "metadata": {
        "id": "XCyjSj-4FSbE",
        "colab": {
          "base_uri": "https://localhost:8080/"
        },
        "outputId": "f1ec4289-c42f-4965-9f40-6c5c234ae4e6"
      },
      "execution_count": 24,
      "outputs": [
        {
          "output_type": "stream",
          "name": "stdout",
          "text": [
            "Resumen de Clústeres - DBSCAN 1\n",
            " Cluster  TotalValue_mean  TotalValue_median  TotalValue_sum  TotalValue_count  Quantity_mean  Quantity_median  Quantity_sum  Quantity_count\n",
            "      -1     1.733153e+06         1733152.52     1733152.520                 1  446738.000000         446738.0        446738               1\n",
            "       0     2.053793e+03             674.45     8911407.904              4339    1194.214335            379.0       5181696            4339\n",
            "\n",
            "Resumen de Clústeres - DBSCAN 2\n",
            " Cluster2  TotalValue_mean  TotalValue_median  TotalValue_sum  TotalValue_count  Quantity_mean  Quantity_median  Quantity_sum  Quantity_count\n",
            "       -1     64961.552632           26301.98     4937078.000                76   30479.565789          13186.5       2316447              76\n",
            "        0      1320.385392             657.80     5623521.384              4259     766.405025            368.0       3264119            4259\n",
            "        1     16792.208000           16594.35       83961.040                 5    9573.600000           9526.0         47868               5\n"
          ]
        }
      ]
    },
    {
      "cell_type": "markdown",
      "source": [
        "Si queremos trabajar con un análisis más simple y menos influenciado por valores atípicos, DBSCAN 1 es más adecuado, ya que tiene solo un clúster principal y el ruido es mínimo (solo un punto). Esto indica que los datos son bastante homogéneos y solo contienen algunos valores extremos.\n",
        "\n",
        "Si necesitamos detallar más los grupos pequeños o identificar patrones específicos en pequeños conjuntos de datos (como el clúster 1 en DBSCAN 2), entonces DBSCAN 2 te proporcionará una mayor diferenciación entre grupos. Esto sugiere que DBSCAN ha identificado correctamente una subpoblación pequeña pero densa de datos que podrían tener una relación especial.\n",
        "\n",
        "Si queremos simplificar y evitar ruido con un solo grupo claro, DBSCAN 1 es más adecuado. Si preferimos detallar más segmentos y no nos importa manejar más ruido, DBSCAN 2 podría ser el camino a seguir.\n"
      ],
      "metadata": {
        "id": "2gvneCGCFh1Z"
      }
    },
    {
      "cell_type": "code",
      "source": [],
      "metadata": {
        "id": "7N5e3QywFr9V"
      },
      "execution_count": null,
      "outputs": []
    },
    {
      "cell_type": "markdown",
      "metadata": {
        "id": "-4hRikE5odvn"
      },
      "source": [
        "# Fin del programa"
      ]
    }
  ],
  "metadata": {
    "colab": {
      "provenance": [],
      "include_colab_link": true
    },
    "kernelspec": {
      "display_name": "Python 3",
      "language": "python",
      "name": "python3"
    },
    "language_info": {
      "codemirror_mode": {
        "name": "ipython",
        "version": 3
      },
      "file_extension": ".py",
      "mimetype": "text/x-python",
      "name": "python",
      "nbconvert_exporter": "python",
      "pygments_lexer": "ipython3",
      "version": "3.7.6"
    }
  },
  "nbformat": 4,
  "nbformat_minor": 0
}